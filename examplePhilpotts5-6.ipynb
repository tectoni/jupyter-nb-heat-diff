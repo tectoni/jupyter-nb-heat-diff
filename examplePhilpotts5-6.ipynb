{
 "cells": [
  {
   "cell_type": "markdown",
   "metadata": {},
   "source": [
    "## Lavasee: Änderung der Krustendicke mit der Zeit bei der Abkühlung\n",
    "#### Übung 5-6 Philpotts. \n",
    "\n",
    "\n",
    "Ende 1959 und Anfang 1960 bildete der Ausbruch des Kilauea Iki, Hawaii, einen 100 m tiefen Lavasee. Die Oberfläche des Sees war schnell mit einer Kruste bedeckt, die sich mit dem Abkühlen zu verdicken begann, aber Lava mit der Anfangstemperatur von 1150 °C existierte noch viele Monate nach dem Ausbruch in der Tiefe des Sees.\\\n",
    "(a) Berechnen Sie unter Verwendung der 1065 °C-Isotherme als Basis der Kruste (50 % kristallin) ein Diagramm der Krustendicke in Abhängigkeit von der Quadratwurzel der Abkühlungszeit in Monaten für die frühe Periode, in der Magma mit der Anfangstemperatur noch in der Tiefe des Sees existierte, und tragen Sie es auf. Nehmen Sie an, dass die Oberfläche des Lavasees bei einer konstanten Lufttemperatur von 25 °C blieb, die Temperaturleitfähigkeit von\n",
    "geschmolzener und fester Lava 1E-6 m2/s beträgt, und die latente Kristallisationswärme vernachlässigt werden kann. \n",
    "\n",
    ">Dieses Problem kann mit Hilfe von Gl. 5.13 gelöst werden, wenn die Anfangs- und Randbedingungen so angepasst werden können, dass sie zu denen von Gl. 5.13 passen. Wir können so tun, als ob Landgestein über dem Lavasee liegt und null Grad hat; die Oberflächentemperatur des Lavasees (25 °C) muss dann nach oben angepasst werden, ebenso wie die anfängliche Lavatemperatur (1150 °C) und die Basis der Lavakruste (1065 °C), so dass die Oberflächentemperatur (1150-25 °C) des Lavasees die Hälfte der angepassten anfänglichen Magmatemperatur beträgt. (Die maximale Temperatur am Kontakt ist die Hälfte der Magmentemperatur). Sie erfüllt dann Gl. 5.13. Die angepasste initiale Magmentemperatur wäre dann 2250 °C, und entsprechend die angepasste Temperatur der Lavakruste 2165 °C.\n",
    "\n",
    "\n",
    "* k : thermische Diffusivität des Magmas\n",
    "* Tb : angepasste Temp. der Lavakruste, erhöht um die Kristallisationsenthalpie (P=const. -> Kristallisationswärme)\n",
    "* To : angepasste T des initialen Magmas\n",
    "\n",
    "[Download Python Code](5-6Philpotts.py)"
   ]
  },
  {
   "cell_type": "code",
   "execution_count": 24,
   "metadata": {},
   "outputs": [],
   "source": [
    "import matplotlib.pyplot as plt\n",
    "import numpy as np\n",
    "from scipy import special\n",
    "k = 1E-6\n",
    "Tb = 2165.\n",
    "To = 2250.\n",
    "t = np.linspace(0., 36.0, 100)\n",
    "# solving eq. 5.57   2165/2250 = 1/2 + 1/2 x erf[x/2 sqr(Dt)]\n"
   ]
  },
  {
   "cell_type": "markdown",
   "metadata": {},
   "source": [
    "Die Gleichung 5.57 wird zu \\\n",
    "`2165/2250 = 1/2 + 1/2 x erf[x/2 sqr(kt)]` \\\n",
    "Der letzte Term wird mit erfx abgekürzt. Dann nach erfx auflösen."
   ]
  },
  {
   "cell_type": "code",
   "execution_count": 40,
   "metadata": {},
   "outputs": [
    {
     "name": "stdout",
     "output_type": "stream",
     "text": [
      "erf[x/2 sqr(kt)] = 0.9244444444444444\n",
      "daher: x/2 sqr(kt) =  1.2565832672372224\n"
     ]
    }
   ],
   "source": [
    "erfx = (Tb/To - 0.5)*2\n",
    "print('erf[x/2 sqr(kt)] =', erfx)\n",
    "print('daher: x/2 sqr(kt) = ', special.erfinv(erfx))"
   ]
  },
  {
   "cell_type": "code",
   "execution_count": 38,
   "metadata": {},
   "outputs": [
    {
     "data": {
      "image/png": "[encoded data removed]",
      "text/plain": [
       "<Figure size 432x288 with 2 Axes>"
      ]
     },
     "metadata": {
      "needs_background": "light"
     },
     "output_type": "display_data"
    }
   ],
   "source": [
    "z = special.erfinv(erfx)*2*np.sqrt(t*30*24*3600*k)\n",
    "fig = plt.figure()\n",
    "ax1 = fig.add_subplot(111)\n",
    "ax1.plot(np.sqrt(t), z)\n",
    "ax1.set_xlim(0, 7)\n",
    "ax1.set_xlabel(\"Square root of time (months)\")\n",
    "ax1.set_ylabel(\"depth (m)\")\n",
    "\n",
    "ax2 = ax1.twiny()\n",
    "ax2.set_xlabel(\"Time (months)\")\n",
    "ax1Xs = ax1.get_xticks()\n",
    "ax2Xs = []\n",
    "for X in ax1Xs:\n",
    "    ax2Xs.append(X**2)\n",
    "\n",
    "ax2.set_xlim(ax1.get_xlim())\n",
    "ax2.set_xticks(ax1Xs)\n",
    "ax2.set_xbound(ax1.get_xbound())\n",
    "ax2.set_xticklabels(ax2Xs)\n",
    "ax1.set_ylim(0, 15)\n",
    "plt.gca().invert_yaxis()\n",
    "plt.show()"
   ]
  }
 ],
 "metadata": {
  "kernelspec": {
   "display_name": "Python 3",
   "language": "python",
   "name": "python3"
  },
  "language_info": {
   "codemirror_mode": {
    "name": "ipython",
    "version": 3
   },
   "file_extension": ".py",
   "mimetype": "text/x-python",
   "name": "python",
   "nbconvert_exporter": "python",
   "pygments_lexer": "ipython3",
   "version": "3.8.12"
  }
 },
 "nbformat": 4,
 "nbformat_minor": 2
}
