{
 "cells": [
  {
   "cell_type": "markdown",
   "metadata": {},
   "source": [
    "### 1D-Finite-Elemente Beispiel. Implizite Lösung der Wärmeleitungsgleichung mit der Crank-Nicolson Methode"
   ]
  },
  {
   "cell_type": "markdown",
   "metadata": {
    "slideshow": {
     "slide_type": "-"
    }
   },
   "source": [
    "Dieser Code basiert auf einem Beispiel von Claudio Belli. Der Code wurde etwas modifiziert, da er für diese Anwendungen nicht funktionierte. Es stellte sich heraus, dass ein Vektor für die Randbedingungen fehlte (unten als Vektor a bezeichnet) und die Formulierung der Randbedingungen nicht hinreichend war."
   ]
  },
  {
   "cell_type": "code",
   "execution_count": 1,
   "metadata": {},
   "outputs": [],
   "source": [
    "import numpy as np\n",
    "import matplotlib.pyplot as plt\n",
    "import os, sys\n",
    "import matplotlib\n",
    "\n",
    "matplotlib.rc('font', size=18)\n",
    "matplotlib.rc('font', family='Arial')"
   ]
  },
  {
   "cell_type": "markdown",
   "metadata": {},
   "source": [
    "Hier die Parameter für die Aufgabe aus Philpotts."
   ]
  },
  {
   "cell_type": "code",
   "execution_count": 2,
   "metadata": {},
   "outputs": [
    {
     "name": "stdout",
     "output_type": "stream",
     "text": [
      "1.00124599501602 0.6784\n"
     ]
    }
   ],
   "source": [
    "k = 1E-6       # m2/s Thermische Diffusivität für Gesteine liegt ungefähr in dieser Größenordnung\n",
    "Tr=25.         # Temperatur an der Oberfläche des Lavasees (konstant, Randbedingung)\n",
    "Tl=1200.       # Temp am Boden des Lavasees (konstant, Randbedingung)\n",
    "Ti=1200.       # initiale T der Masse unterhalb der Oberfläche\n",
    "dt = 1800      # seconds\n",
    "tsteps = 12    # number of time steps\n",
    "nplot = 1      # number of timesteps before plotting\n",
    "\n",
    "#definition of numerical parameters\n",
    "N = 17 #51 #number of grid points  z, die Koeff.Matrizen A und B haben den Rang N-2\n",
    "#L = float(1) #size of grid  z\n",
    "dz = 0.0424\n",
    "\n",
    "L = dz*(N-1)\n",
    "#dx = L/(N-1) #grid spacing\n",
    "\n",
    "r = k*dt/dz**2 \n",
    "print(r, L)"
   ]
  },
  {
   "cell_type": "markdown",
   "metadata": {},
   "source": [
    "Hier die Parameter einer anderen Aufgabe, die zu Kontrollzwecken gerechnet wurde. Es handelt sich um einen Stab der Länge 5 cm und der initialen Temperatur von 20°C, an dessen einem Ende eine Temperatur von 100°C und an dessen anderem Ende eine Temperatur von 25°C angelegt wird. In Schritten von 1 cm wird die Temperaturverteilung in den Stab nach 3, 6 und 9 Sekunden berechnet."
   ]
  },
  {
   "cell_type": "code",
   "execution_count": 3,
   "metadata": {},
   "outputs": [],
   "source": [
    "r=0.4239\n",
    "L=0.05\n",
    "dt=3\n",
    "dz=0.01\n",
    "tsteps=3\n",
    "N=6\n",
    "Tr=25.\n",
    "Tl=100.\n",
    "Ti=20."
   ]
  },
  {
   "cell_type": "markdown",
   "metadata": {},
   "source": [
    "Jetzt der Code für die eigentlichen Berechnungen. Es werden zunächst die Matrizen definiert. Danach folgt die Berechnung des Vektors u, der die Temperaturen für die verschiedenen Tiefen (z) bei dem jeweils nächsten Zeitschritt j+1 enthält. Die verschiedenen print-Anweisungen dienen dem Degugging und können auskommentiert werden. Im unteren Teil wird ein Diagramm erstellt. Dieses muss für andere Berechnungen ggf. angepasst werden."
   ]
  },
  {
   "cell_type": "code",
   "execution_count": 4,
   "metadata": {},
   "outputs": [
    {
     "name": "stdout",
     "output_type": "stream",
     "text": [
      "A [[ 2.8478 -0.4239  0.      0.    ]\n",
      " [-0.4239  2.8478 -0.4239  0.    ]\n",
      " [ 0.     -0.4239  2.8478 -0.4239]\n",
      " [ 0.      0.     -0.4239  2.8478]]\n",
      "B [[1.1522 0.4239 0.     0.    ]\n",
      " [0.4239 1.1522 0.4239 0.    ]\n",
      " [0.     0.4239 1.1522 0.4239]\n",
      " [0.     0.     0.4239 1.1522]]\n",
      "b [10.5975  0.      0.     42.39  ]\n",
      "u [ 25.  20.  20.  20.  20. 100.] z [0.   0.01 0.02 0.03 0.04 0.05]\n",
      "bb [ 52.717  40.     40.    116.302]\n",
      "z [0.   0.01 0.02 0.03 0.04 0.05]\n",
      "0\n",
      "u [ 25.          21.60714248  20.79693409  23.74673559  44.37398736\n",
      " 100.        ]\n",
      "bb [ 54.90656993  43.18773638  54.98694235 145.97394946]\n",
      "1\n",
      "u [ 25.          22.72990986  23.17449247  31.07660883  55.88430506\n",
      " 100.        ]\n",
      "bb [ 57.20806949  49.51023349  69.31949296 162.34327077]\n",
      "2\n",
      "u [ 25.          24.04248604  26.56315697  37.61433143  62.60551509\n",
      " 100.        ]\n",
      "bb [ 60.15687465  56.74239438  81.13783276 172.85878957]\n"
     ]
    },
    {
     "data": {
      "text/plain": [
       "<Figure size 432x288 with 0 Axes>"
      ]
     },
     "metadata": {},
     "output_type": "display_data"
    }
   ],
   "source": [
    "#initialize matrices A, B and a and b arrays.\n",
    "# A und B sind die Koeffizientenmatrizen. Es sind beides Diagonalmatrizen.\n",
    "# Man benötigt N-2 Elemente bzw. Bestimmungsgleichungen, da es 2 Randbedingungen gibt.\n",
    "# Die Vektoren a and b definieren die Randbedingungen (in diesen Fällen die Temperaturen rechts und links)\n",
    "# Die vollständige Gleichung lautet A u + a = B u + b  | mit i+1 auf der linken Seite und i auf der rechten\n",
    "# Ziel ist die Berechnung des Vektors u (für i+1, d.h. der linken Seite).\n",
    "A = np.zeros((N-2,N-2))\n",
    "a = np.zeros((N-2))\n",
    "a[:1]=Tr*(-r) #first value in vector a\n",
    "a[-1:]=Tl*(-r)  #last item in vector a\n",
    "\n",
    "B = np.zeros((N-2,N-2))\n",
    "b = np.zeros((N-2))\n",
    "b[:1]=Tr*r\n",
    "b[-1:]=Tl*r\n",
    "#define matrices A, B and b array\n",
    "\n",
    "for i in range(N-2):\n",
    "    # i ist die Zeile (Entfernung), j die Spalte der Matrizen (Zeit)\n",
    "    \n",
    "    if i==0:       # erste Zeile der Matrix\n",
    "        A[i,:] = [2+2*r if j==0 else (-r) if j==1 else 0 for j in range(N-2)]\n",
    "        B[i,:] = [2-2*r if j==0 else r if j==1 else 0 for j in range(N-2)]\n",
    "#        b[i] = Tr #boundary condition at i=0 (left side of rod)\n",
    "        \n",
    "    elif i==N-3:     # letzte Zeile der Matrix\n",
    "        A[i,:] = [-r if j==N-4 else 2+2*r if j==N-3 else 0 for j in range(N-2)]\n",
    "        B[i,:] = [r if j==N-4 else 2-2*r if j==N-3 else 0 for j in range(N-2)]\n",
    "#        b[i] = Tl #boundary condition at i=N\n",
    "    else:\n",
    "         # alle anderen Zeilen\n",
    "        A[i,:] = [-r if j==i-1 or j==i+1 else 2+2*r if j==i else 0 for j in range(N-2)]\n",
    "        B[i,:] = [r if j==i-1 or j==i+1 else 2-2*r if j==i else 0 for j in range(N-2)]\n",
    "\n",
    "#initialize grid, Vector mit x für Entfernung\n",
    "z = np.linspace(0,L,N)\n",
    "print(\"A\",A)\n",
    "print(\"B\",B)\n",
    "print(\"b\",b)\n",
    "\n",
    "\n",
    "# initiale Bedingungen, u ist der Temperaturvektor\n",
    "\n",
    "u = np.full(N, Ti)\n",
    "u[:1] = Tr\n",
    "u[-1:] = Tl\n",
    "\n",
    "print(\"u\", u,\"z\", z)\n",
    "# Die Gesamtgleichung lautet A u + a = B u + b; linke Seite j+1, rechte Seite j\n",
    "# bb = B u + b - a\n",
    "# dann lautet die Gleichung A u = bb. Mit np.linalg.solve kann diese Gleichung nach dem Vektor u aufgelöst werden\n",
    "# u ist der Vektor (array) der Temperaturen über einen Zeitschritt\n",
    "# das erste und letzte Element wird u nicht zugewiesen (u[1:-1])\n",
    "\n",
    "# evaluate right hand side at t=0\n",
    "\n",
    "bb = B.dot(u[1:-1])+b-a\n",
    "print(\"bb\",bb)\n",
    "print(\"z\",z)\n",
    "fig = plt.figure()\n",
    "plt.plot(u,z,linewidth=2)\n",
    "plt.xlim([Tr,Tl])\n",
    "\n",
    "filename = 'foo000.jpg';\n",
    "fig.set_tight_layout(True);\n",
    "plt.xlabel(\"T\")\n",
    "plt.ylabel(\"z\")\n",
    "plt.gca().invert_yaxis()\n",
    "plt.title(\"t = 0\")\n",
    "plt.savefig(filename)\n",
    "plt.clf()\n",
    "\n",
    "c = 0\n",
    "for j in range(tsteps):\n",
    "    print(j)\n",
    "    #find solution inside domain\n",
    "    u[1:-1] = np.linalg.solve(A,bb)\n",
    "    print(\"u\",u)\n",
    "    #update right hand side\n",
    "    bb = B.dot(u[1:-1])+b-a\n",
    "    print(\"bb\",bb)\n",
    "    if(j%nplot==0): #plot results every nplot timesteps\n",
    "        plt.plot(u,z,linewidth=2)\n",
    "        plt.xlim([Tr,Tl])\n",
    "        filename = 'foo' + str(c+1).zfill(3) + '.jpg';\n",
    "        plt.xlabel(\"T\")\n",
    "        plt.ylabel(\"z\")\n",
    "        plt.gca().invert_yaxis()\n",
    "        plt.title(\"t = %2.2f\"%(dt*(j+1)))\n",
    "        plt.savefig(filename)\n",
    "        plt.clf()\n",
    "        c += 1\n",
    "\n"
   ]
  },
  {
   "cell_type": "markdown",
   "metadata": {},
   "source": [
    "Wenn das Tool FFmpeg installiert ist, wird aus den erzeugten jpg-Files ein Movie erstellt. Am Ende werden die jpg-Files gelöscht. Wenn ffmpeg nicht installiert ist, können andere Programme zur Erstellung des Movies verwendet werden (z.B. QuickTime, Photoshop)."
   ]
  },
  {
   "cell_type": "code",
   "execution_count": 5,
   "metadata": {},
   "outputs": [
    {
     "name": "stderr",
     "output_type": "stream",
     "text": [
      "ffmpeg version 4.4 Copyright (c) 2000-2021 the FFmpeg developers\n",
      "  built with Apple clang version 11.0.3 (clang-1103.0.32.62)\n",
      "  configuration: --prefix=/opt/local --enable-swscale --enable-avfilter --enable-avresample --enable-libmp3lame --enable-libvorbis --enable-libopus --enable-librsvg --enable-libtheora --enable-libopenjpeg --enable-libmodplug --enable-libvpx --enable-libsoxr --enable-libspeex --enable-libass --enable-libbluray --enable-lzma --enable-gnutls --enable-fontconfig --enable-libfreetype --enable-libfribidi --disable-libjack --disable-libopencore-amrnb --disable-libopencore-amrwb --disable-libxcb --disable-libxcb-shm --disable-libxcb-xfixes --disable-indev=jack --enable-opencl --disable-outdev=xv --enable-audiotoolbox --enable-videotoolbox --enable-sdl2 --disable-securetransport --mandir=/opt/local/share/man --enable-shared --enable-pthreads --cc=/usr/bin/clang --enable-libdav1d --arch=x86_64 --enable-x86asm --enable-libx265 --enable-gpl --enable-postproc --enable-libx264 --enable-libxvid\n",
      "  libavutil      56. 70.100 / 56. 70.100\n",
      "  libavcodec     58.134.100 / 58.134.100\n",
      "  libavformat    58. 76.100 / 58. 76.100\n",
      "  libavdevice    58. 13.100 / 58. 13.100\n",
      "  libavfilter     7.110.100 /  7.110.100\n",
      "  libavresample   4.  0.  0 /  4.  0.  0\n",
      "  libswscale      5.  9.100 /  5.  9.100\n",
      "  libswresample   3.  9.100 /  3.  9.100\n",
      "  libpostproc    55.  9.100 / 55.  9.100\n",
      "Input #0, image2, from 'foo%03d.jpg':\n",
      "  Duration: 00:00:00.16, start: 0.000000, bitrate: N/A\n",
      "  Stream #0:0: Video: mjpeg (Baseline), yuvj420p(pc, bt470bg/unknown/unknown), 432x288 [SAR 72:72 DAR 3:2], 25 fps, 25 tbr, 25 tbn, 25 tbc\n",
      "Stream mapping:\n",
      "  Stream #0:0 -> #0:0 (mjpeg (native) -> h264 (libx264))\n",
      "Press [q] to stop, [?] for help\n",
      "[libx264 @ 0x7fb0a480c200] using SAR=1/1\n",
      "[libx264 @ 0x7fb0a480c200] using cpu capabilities: MMX2 SSE2Fast SSSE3 SSE4.2 AVX FMA3 BMI2 AVX2\n",
      "[libx264 @ 0x7fb0a480c200] profile High, level 2.1, 4:2:0, 8-bit\n",
      "[libx264 @ 0x7fb0a480c200] 264 - core 157 - H.264/MPEG-4 AVC codec - Copyleft 2003-2018 - http://www.videolan.org/x264.html - options: cabac=1 ref=3 deblock=1:0:0 analyse=0x3:0x113 me=hex subme=7 psy=1 psy_rd=1.00:0.00 mixed_ref=1 me_range=16 chroma_me=1 trellis=1 8x8dct=1 cqm=0 deadzone=21,11 fast_pskip=1 chroma_qp_offset=-2 threads=9 lookahead_threads=1 sliced_threads=0 nr=0 decimate=1 interlaced=0 bluray_compat=0 constrained_intra=0 bframes=3 b_pyramid=2 b_adapt=1 b_bias=0 direct=1 weightb=1 open_gop=0 weightp=2 keyint=250 keyint_min=25 scenecut=40 intra_refresh=0 rc_lookahead=40 rc=crf mbtree=1 crf=23.0 qcomp=0.60 qpmin=0 qpmax=69 qpstep=4 ip_ratio=1.40 aq=1:1.00\n",
      "Output #0, ipod, to 'heat_equation.m4v':\n",
      "  Metadata:\n",
      "    encoder         : Lavf58.76.100\n",
      "  Stream #0:0: Video: h264 (avc1 / 0x31637661), yuvj420p(pc, bt470bg/unknown/unknown, progressive), 432x288 [SAR 72:72 DAR 3:2], q=2-31, 25 fps, 12800 tbn\n",
      "    Metadata:\n",
      "      encoder         : Lavc58.134.100 libx264\n",
      "    Side data:\n",
      "      cpb: bitrate max/min/avg: 0/0/0 buffer size: 0 vbv_delay: N/A\n",
      "frame=    1 fps=0.0 q=0.0 size=       0kB time=00:00:00.00 bitrate=N/A speed=   0x    \r",
      "frame=    4 fps=0.0 q=-1.0 Lsize=       6kB time=00:00:00.04 bitrate=1253.2kbits/s speed=3.48x    \n",
      "video:5kB audio:0kB subtitle:0kB other streams:0kB global headers:0kB muxing overhead: 17.323864%\n",
      "[libx264 @ 0x7fb0a480c200] frame I:1     Avg QP:26.07  size:  2736\n",
      "[libx264 @ 0x7fb0a480c200] frame P:2     Avg QP:29.86  size:   820\n",
      "[libx264 @ 0x7fb0a480c200] frame B:1     Avg QP:31.61  size:   299\n",
      "[libx264 @ 0x7fb0a480c200] consecutive B-frames: 50.0% 50.0%  0.0%  0.0%\n",
      "[libx264 @ 0x7fb0a480c200] mb I  I16..4: 27.0% 57.2% 15.8%\n",
      "[libx264 @ 0x7fb0a480c200] mb P  I16..4:  1.9%  2.7%  2.3%  P16..4:  4.3%  3.5%  0.5%  0.0%  0.0%    skip:84.9%\n",
      "[libx264 @ 0x7fb0a480c200] mb B  I16..4:  1.0%  0.2%  0.2%  B16..8: 10.1%  2.7%  0.1%  direct: 0.2%  skip:85.6%  L0:53.2% L1:32.4% BI:14.4%\n",
      "[libx264 @ 0x7fb0a480c200] 8x8 transform intra:54.6% inter:28.3%\n",
      "[libx264 @ 0x7fb0a480c200] coded y,uvDC,uvAC intra: 11.1% 6.8% 6.8% inter: 1.7% 0.2% 0.1%\n",
      "[libx264 @ 0x7fb0a480c200] i16 v,h,dc,p: 58% 23% 19%  0%\n",
      "[libx264 @ 0x7fb0a480c200] i8 v,h,dc,ddl,ddr,vr,hd,vl,hu: 59% 14% 26%  0%  0%  0%  0%  0%  0%\n",
      "[libx264 @ 0x7fb0a480c200] i4 v,h,dc,ddl,ddr,vr,hd,vl,hu: 37% 33% 17%  1%  3%  2%  5%  2%  1%\n",
      "[libx264 @ 0x7fb0a480c200] i8c dc,h,v,p: 92%  7%  1%  0%\n",
      "[libx264 @ 0x7fb0a480c200] Weighted P-Frames: Y:0.0% UV:0.0%\n",
      "[libx264 @ 0x7fb0a480c200] ref P L0: 92.0%  2.5%  5.6%\n",
      "[libx264 @ 0x7fb0a480c200] ref B L0: 86.0% 14.0%\n",
      "[libx264 @ 0x7fb0a480c200] kb/s:233.80\n"
     ]
    },
    {
     "data": {
      "text/plain": [
       "0"
      ]
     },
     "execution_count": 5,
     "metadata": {},
     "output_type": "execute_result"
    }
   ],
   "source": [
    "os.system(\"ffmpeg -y -i 'foo%03d.jpg' heat_equation.m4v\")\n",
    "os.system(\"rm -f *.jpg\")"
   ]
  },
  {
   "cell_type": "code",
   "execution_count": 6,
   "metadata": {},
   "outputs": [
    {
     "name": "stdout",
     "output_type": "stream",
     "text": [
      "[[ 2.8478 -0.4239  0.      0.    ]\n",
      " [-0.4239  2.8478 -0.4239  0.    ]\n",
      " [ 0.     -0.4239  2.8478 -0.4239]\n",
      " [ 0.      0.     -0.4239  2.8478]]\n",
      "[44.37327002 23.74663447 20.79697216 21.6074993 ]\n"
     ]
    }
   ],
   "source": [
    "w=np.array([[ 2.8478, -0.4239,  0.,      0.],\n",
    " [-0.4239,  2.8478, -0.4239,  0.    ],\n",
    " [ 0.,     -0.4239,  2.8478, -0.4239],\n",
    " [ 0.,      0.,     -0.4239,  2.8478]])\n",
    "print(w)\n",
    "\n",
    "w2=np.array([116.3,40.,40.,52.718])\n",
    "ww=np.linalg.solve(w,w2)\n",
    "print(ww)"
   ]
  }
 ],
 "metadata": {
  "kernelspec": {
   "display_name": "Python 3",
   "language": "python",
   "name": "python3"
  },
  "language_info": {
   "codemirror_mode": {
    "name": "ipython",
    "version": 3
   },
   "file_extension": ".py",
   "mimetype": "text/x-python",
   "name": "python",
   "nbconvert_exporter": "python",
   "pygments_lexer": "ipython3",
   "version": "3.8.12"
  }
 },
 "nbformat": 4,
 "nbformat_minor": 4
}
