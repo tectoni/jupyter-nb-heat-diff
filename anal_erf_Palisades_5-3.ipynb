{
 "cells": [
  {
   "cell_type": "markdown",
   "metadata": {},
   "source": [
    "## Abkühlung eines Sills.\n",
    "**Übung 5-3 Philpotts.** \\\n",
    "Eine einfache analytische Lösung unter Verwendung der Fehlerfunktion\n",
    "\n",
    ">Die \"Palisades\" entlang des Westufers des Hudson River gegenüber von New York City werden von einer 300 m dicken unterjurassischen Diabas-Sill gebildet. Entlang des größten Teils ihrer Länge enthält eine Schicht 15 m über dem unteren Kontakt hohe Konzentrationen von Olivin, das sich möglicherweise durch Absinken aus dem darüber liegenden Magma angesammelt hat (Abschnitt 14.3). Indem wir die Zeit berechnen, die die Schwelle brauchte, um bis zu dieser Schicht zu erstarren, können wir eine Grenze dafür setzen, wie lange die Kristalle gebraucht hätten, um sich abzusetzen. Berechnen Sie die Zeit, die die Zone der Erstarrung brauchte, um 15 m von der Basis nach oben vorzustoßen wenn der Sill mit 1200 °C in das Sedimentgestein mit 50 °C intrudiert wurde. Es wird angenommen, dass die Erstarrung eingetreten ist, als die Temperatur 950 °C erreichte. Die thermische Diffusivität von Magma, Diabas und Nebengestein wird mit 1E-6 m2 s-1 angenommen. Ignorieren Sie die latente Wärme der Kristallisation.\\\n",
    "Gleichung 5.13 kann verwendet werden, wenn das Magma in der Mitte des Sills noch seine Anfangstemperatur hatte. Es wird angenommen, dass das Magma zu diesem Zeitpunkt nicht konvektiv war.\n",
    "\n",
    "Zunächst müssen die relativen Temperaturen des Magmas ermittelt werden; sie werden dann zur Definition der Randbedingungen des Problems verwendet.\n",
    "* k : thermische Diffusivität des Magmas\n",
    "* Ts : T der Verfestigung des Magmas 950, bzw. 900°C\n",
    "* To : angepasste T des initialen Magmas -> 1150°C\n",
    "* Tc : T des Nebengesteins 50, bzw. 0°C\n"
   ]
  },
  {
   "cell_type": "code",
   "execution_count": 1,
   "metadata": {},
   "outputs": [
    {
     "name": "stdout",
     "output_type": "stream",
     "text": [
      "erf[x/2 sqr(kt)] = 0.5652173913043479\n",
      "therefore x/2 sqr(kt) =  0.5522743044636833\n",
      "solved for time t yields  5.847984934052858 years\n"
     ]
    }
   ],
   "source": [
    "from scipy import special   # to use the Error Function and i\n",
    "\n",
    "k = 1E-6  # m**2 / s\n",
    "x = 15   # meter\n",
    "T = 900   # 950-50\n",
    "To = 1150   # 1200-50\n",
    "\n",
    "erfx = (T/To-1/2)*2\n",
    "\n",
    "print('erf[x/2 sqr(kt)] =', erfx)\n",
    "print('therefore x/2 sqr(kt) = ', special.erfinv(erfx))\n",
    "print('solved for time t yields ', (x/(2*special.erfinv(erfx)))**2/k/(24*365*60*60), 'years')\n"
   ]
  }
 ],
 "metadata": {
  "kernelspec": {
   "display_name": "Python 3",
   "language": "python",
   "name": "python3"
  },
  "language_info": {
   "codemirror_mode": {
    "name": "ipython",
    "version": 3
   },
   "file_extension": ".py",
   "mimetype": "text/x-python",
   "name": "python",
   "nbconvert_exporter": "python",
   "pygments_lexer": "ipython3",
   "version": "3.8.12"
  }
 },
 "nbformat": 4,
 "nbformat_minor": 2
}
