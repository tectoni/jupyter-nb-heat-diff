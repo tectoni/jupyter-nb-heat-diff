{
 "cells": [
  {
   "cell_type": "markdown",
   "metadata": {},
   "source": [
    "## Interne Na-K Diffusion in Feldspat\n",
    "### Philpotts Übung 5.15\n",
    "Zwei große Alkalifeldspatkristalle, einer mit der Zusammensetzung Or100 und der andere mit der Zusammensetzung Or60, stehen entlang einer ebenen Fläche in Kontakt. Wie viele Jahre würde der Or100-Kristall brauchen, um seine Zusammensetzung 1 mm vom anfänglichen Kontakt zwischen den Kristallen zu Or90 zu ändern, wenn sie plötzlich auf eine Temperatur von 600°C erhitzt würden? Feldspat sowohl der Or100- als auch der Or60-Zusammensetzung existieren weiterhin in einiger Entfernung von der anfänglichen Grenze.\\\n",
    "Die Lösung kann durch diese Gleichung erhalten werden (Carslaw & Jaeger, 1959), indem nach der Zeit t aufgelöst wird (siehe Philpotts & Ague). C, bzw. Co sind in diesem Fall die relativen Konzentrationen der K-Komponente im Feldspat.\n",
    "\n",
    "$\\frac{C}{C_o} = \\frac{1}{2} + \\frac{1}{2} \\, erf(\\frac{x}{2\\sqrt{Dt}})$\n",
    "\n",
    "[Download Python Code](diffusionKfs.py)"
   ]
  },
  {
   "cell_type": "code",
   "execution_count": 1,
   "metadata": {},
   "outputs": [],
   "source": [
    "from scipy import special   # Für Inverse Fehlerfunktion\n",
    "\n",
    "D = 3E-21   # K-Na Inter-Diffusionskoeff. in m2/s für eine Temp. von 600°C\n",
    "x = 1E-3    # Entfernung (1 mm) in m"
   ]
  },
  {
   "cell_type": "code",
   "execution_count": 21,
   "metadata": {},
   "outputs": [
    {
     "name": "stdout",
     "output_type": "stream",
     "text": [
      "erf[x/2 sqr(Dt)] = 0.5\n",
      "therefore x/2 sqr(Dt) =  0.4769362762044699\n",
      "solved for time t yields  11.62 Ma\n"
     ]
    }
   ],
   "source": [
    "ef_value = ((90-60)/(100-60) - 1/2) * 2    # \n",
    "print('erf[x/2 sqr(Dt)] =', ef_value)\n",
    "print('therefore x/2 sqr(Dt) = ', special.erfinv(ef_value))\n",
    "print('solved for time t yields ',\"{:3.2f}\".format( x**2/(2**2*D*special.erfinv(ef_value)**2)/(24*365*60*60*1E+6)), 'Ma')"
   ]
  }
 ],
 "metadata": {
  "kernelspec": {
   "display_name": "Python 3",
   "language": "python",
   "name": "python3"
  },
  "language_info": {
   "codemirror_mode": {
    "name": "ipython",
    "version": 3
   },
   "file_extension": ".py",
   "mimetype": "text/x-python",
   "name": "python",
   "nbconvert_exporter": "python",
   "pygments_lexer": "ipython3",
   "version": "3.8.12"
  }
 },
 "nbformat": 4,
 "nbformat_minor": 4
}
