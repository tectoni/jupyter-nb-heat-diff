{
 "cells": [
  {
   "cell_type": "markdown",
   "metadata": {},
   "source": [
    "### Reicht der terrestrische Wärmestrom aus, um einen Fußballplatz (100 x 70m) zu beleuchten? Der aus dieser Fläche austretende Wärmestrom soll zu 100% in el. Energie umgewandelt werden.\n",
    "Ein minimalistisches Rechenbeispiel in Python.\n"
   ]
  },
  {
   "cell_type": "code",
   "execution_count": 13,
   "metadata": {},
   "outputs": [
    {
     "name": "stdout",
     "output_type": "stream",
     "text": [
      "Leistung in Watt: 560.0\n"
     ]
    }
   ],
   "source": [
    "# 1 HFU = 41.8 mW/m2\n",
    "# Q terr. Wärmestromdichte mW/m2\n",
    "# P Leistung in Watt  J/s\n",
    "# A Fläche\n",
    "HFU = 1.5   # ungefährer Wert kont. Kruste, entspricht etwa 60 mW/m2\n",
    "Q = 80\n",
    "A = 70 * 100\n",
    "P = Q * A\n",
    "print(\"Leistung in Watt:\", P/1000)"
   ]
  }
 ],
 "metadata": {
  "kernelspec": {
   "display_name": "Python 3",
   "language": "python",
   "name": "python3"
  },
  "language_info": {
   "codemirror_mode": {
    "name": "ipython",
    "version": 3
   },
   "file_extension": ".py",
   "mimetype": "text/x-python",
   "name": "python",
   "nbconvert_exporter": "python",
   "pygments_lexer": "ipython3",
   "version": "3.8.12"
  }
 },
 "nbformat": 4,
 "nbformat_minor": 4
}
